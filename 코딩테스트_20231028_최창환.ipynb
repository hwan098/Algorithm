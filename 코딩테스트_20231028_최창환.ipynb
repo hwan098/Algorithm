{
  "nbformat": 4,
  "nbformat_minor": 0,
  "metadata": {
    "colab": {
      "provenance": [],
      "authorship_tag": "ABX9TyNvTeGasd42onwlRCazXOcs",
      "include_colab_link": true
    },
    "kernelspec": {
      "name": "python3",
      "display_name": "Python 3"
    },
    "language_info": {
      "name": "python"
    }
  },
  "cells": [
    {
      "cell_type": "markdown",
      "metadata": {
        "id": "view-in-github",
        "colab_type": "text"
      },
      "source": [
        "<a href=\"https://colab.research.google.com/github/hwan098/Algorithm/blob/master/%EC%BD%94%EB%94%A9%ED%85%8C%EC%8A%A4%ED%8A%B8_20231028_%EC%B5%9C%EC%B0%BD%ED%99%98.ipynb\" target=\"_parent\"><img src=\"https://colab.research.google.com/assets/colab-badge.svg\" alt=\"Open In Colab\"/></a>"
      ]
    },
    {
      "cell_type": "code",
      "execution_count": 59,
      "metadata": {
        "colab": {
          "base_uri": "https://localhost:8080/"
        },
        "id": "rhM-lGKblIzB",
        "outputId": "3ab2d9c2-e6a0-4911-9065-9ec345464825"
      },
      "outputs": [
        {
          "output_type": "execute_result",
          "data": {
            "text/plain": [
              "[0, 3]"
            ]
          },
          "metadata": {},
          "execution_count": 59
        }
      ],
      "source": [
        "# 1번 문제(두 수의 합)\n",
        "\n",
        "# 두 수의 합이 특정 숫자가 되는 두 숫자의 인덱스를 찾는 함수\n",
        "def find_two_sum(nums, target):\n",
        "    # 숫자와 해당 숫자의 인덱스를 저장할 딕셔너리 생성\n",
        "    num_indexes = {}\n",
        "\n",
        "    # 주어진 배열을 반복하며, 각 숫자와 해당 숫자의 인덱스를 딕셔너리에 저장\n",
        "    for index, num in enumerate(nums):\n",
        "      # 목표 합(target)에서 현재 숫자를 뺀 값을 complement에 저장\n",
        "        complement = target - num\n",
        "        # 만약 complement가 이미 num_indexes에 존재하면\n",
        "        if complement in num_indexes:\n",
        "            # 현재 숫자와 complement의 인덱스를 반환\n",
        "            return [num_indexes[complement], index]\n",
        "        # num_indexes에 현재 숫자와 해당 숫자의 인덱스를 저장\n",
        "        num_indexes[num] = index\n",
        "\n",
        "# 테스트\n",
        "nums = [1, 7, 2, 15]\n",
        "target = 16\n",
        "result = find_two_sum(nums, target)\n",
        "result\n",
        "\n"
      ]
    },
    {
      "cell_type": "code",
      "source": [
        "# 2번 문제(문자열 뒤집기)\n",
        "\n",
        "def reverse_string(s):\n",
        "    return s[::-1]\n",
        "\n",
        "# 테스트\n",
        "s = \"안녕하십니까. 핑거 인턴사원 지원자 최창환입니다.\"\n",
        "reverse_string(s)\n"
      ],
      "metadata": {
        "colab": {
          "base_uri": "https://localhost:8080/",
          "height": 35
        },
        "id": "Ljv3GW3RmBTq",
        "outputId": "a5546911-c7f3-4340-81d3-10b8c226cc52"
      },
      "execution_count": 62,
      "outputs": [
        {
          "output_type": "execute_result",
          "data": {
            "text/plain": [
              "'.다니입환창최 자원지 원사턴인 거핑 .까니십하녕안'"
            ],
            "application/vnd.google.colaboratory.intrinsic+json": {
              "type": "string"
            }
          },
          "metadata": {},
          "execution_count": 62
        }
      ]
    },
    {
      "cell_type": "code",
      "source": [
        "# 3번 문제(가장 큰 수)\n",
        "def largest_number(numbers):\n",
        "    # 결과를 저장할 빈 문자열\n",
        "    answer = ''\n",
        "\n",
        "    # 주어진 정수 배열을 문자열로 변환하여 리스트로 저장\n",
        "    numbers = list(map(str, numbers))\n",
        "\n",
        "    # 정수를 문자열로 변환하고, 해당 문자열을 3번 반복한 뒤 크기 비교\n",
        "    numbers.sort(key = lambda x : x*3,reverse=True)\n",
        "\n",
        "    # 정렬된 정수 문자열을 이어붙여 가장 큰 수를 생성\n",
        "    for i in numbers:\n",
        "        answer += i\n",
        "    # 결과를 정수로 변환하고 다시 문자열로 변환해서 반환\n",
        "    return str(int(answer))\n",
        "\n",
        "# 테스트\n",
        "numbers = [7, 8, 1, 3, 45, 88, 999]\n",
        "result = largest_number(numbers)\n",
        "result\n"
      ],
      "metadata": {
        "colab": {
          "base_uri": "https://localhost:8080/",
          "height": 35
        },
        "id": "4mXFfTyL1Ad4",
        "outputId": "169d9ace-0f1c-40ae-c71a-36faab184977"
      },
      "execution_count": 65,
      "outputs": [
        {
          "output_type": "execute_result",
          "data": {
            "text/plain": [
              "'99988874531'"
            ],
            "application/vnd.google.colaboratory.intrinsic+json": {
              "type": "string"
            }
          },
          "metadata": {},
          "execution_count": 65
        }
      ]
    },
    {
      "cell_type": "code",
      "source": [
        "# 4번 문제(회문 판별)\n",
        "\n",
        "def is_palindrome(word):\n",
        "    # 입력된 단어를 리스트로 변환\n",
        "    word_list = list(word)\n",
        "\n",
        "    # 단어를 뒤집은 리스트 생성\n",
        "    reversed_word_list = list(reversed(word_list))\n",
        "\n",
        "    # 입력된 리스트와 뒤집은 리스트를 비교하여 회문 여부 판별\n",
        "    if word_list == reversed_word_list:\n",
        "        return \"회문입니다.\"\n",
        "    else:\n",
        "        return \"회문이 아닙니다.\"\n",
        "\n",
        "# 테스트\n",
        "#result = is_palindrome(\"회문\")\n",
        "result = is_palindrome(\"기러기\")\n",
        "result\n"
      ],
      "metadata": {
        "colab": {
          "base_uri": "https://localhost:8080/",
          "height": 35
        },
        "id": "FwgiYlcamlUI",
        "outputId": "ce6f25c5-fa2f-4c43-f760-b31a2302fd54"
      },
      "execution_count": 70,
      "outputs": [
        {
          "output_type": "execute_result",
          "data": {
            "text/plain": [
              "'회문입니다.'"
            ],
            "application/vnd.google.colaboratory.intrinsic+json": {
              "type": "string"
            }
          },
          "metadata": {},
          "execution_count": 70
        }
      ]
    },
    {
      "cell_type": "code",
      "source": [
        "# 5번 문제(로또 번호 생성기 만들기)\n",
        "\n",
        "import random\n",
        "\n",
        "# 로또 번호 생성 함수\n",
        "def generate_lotto_numbers():\n",
        "    # 1 ~ 45 사이의 숫자 중 6개 반환\n",
        "    return random.sample(range(1, 46), 6)\n",
        "\n",
        "# 테스트\n",
        "generate_lotto_numbers()\n"
      ],
      "metadata": {
        "colab": {
          "base_uri": "https://localhost:8080/"
        },
        "id": "om6C-s6gnURS",
        "outputId": "1ea87537-217d-4765-92e0-69d088e9cede"
      },
      "execution_count": 50,
      "outputs": [
        {
          "output_type": "execute_result",
          "data": {
            "text/plain": [
              "[30, 45, 29, 33, 36, 34]"
            ]
          },
          "metadata": {},
          "execution_count": 50
        }
      ]
    },
    {
      "cell_type": "code",
      "source": [
        "# 6번 문제(로또 번호생성기를 과거에 많이 나온 숫자로 만들기)\n",
        "\n",
        "import random\n",
        "\n",
        "# 로또 번호 생성 함수 정의\n",
        "def generate_lotto_numbers():\n",
        "    # 1 ~ 45 사이의 숫자 중 6개 반환\n",
        "    return random.sample(range(1, 46), 6)\n",
        "\n",
        "# 30개의 로또 번호 조합을 저장할 리스트 생성\n",
        "lotto_results = []\n",
        "\n",
        "# 30개의 로또 번호 생성\n",
        "for _ in range(30):\n",
        "    # generate_lotto_numbers 함수를 호출하여 로또 번호 생성\n",
        "    lotto_numbers = generate_lotto_numbers()\n",
        "\n",
        "    # 생성된 로또 번호를 결과 리스트에 추가\n",
        "    lotto_results.append(lotto_numbers)\n",
        "\n",
        "# 각 숫자의 적중 횟수를 저장할 딕셔너리 생성\n",
        "number_counts = {}\n",
        "# 30개의 로또 번호 조합을 순회\n",
        "for numbers in lotto_results:\n",
        "    # 각 로또 번호 조합에서 숫자를 하나씩 가져와서 처리\n",
        "    for num in numbers:\n",
        "        # 만약 현재 숫자가 이미 적중 횟수 딕셔너리에 존재하면,\n",
        "        if num in number_counts:\n",
        "            # 해당 숫자의 적중 횟수를 1 증가\n",
        "            number_counts[num] += 1\n",
        "        # 현재 숫자가 이미 적중 횟수 딕셔너리에 존재하지 않으면,\n",
        "        else:\n",
        "            # 해당 숫자를 딕셔너리에 추가하고 적중 횟수를 1로 설정\n",
        "            number_counts[num] = 1\n",
        "\n",
        "# 적중 횟수가 가장 많은 6개의 숫자를 찾기\n",
        "most_hit_numbers = [num for num, count in sorted(number_counts.items(), key=lambda x: x[1], reverse=True)[:6]]\n",
        "\n",
        "# 최종 결과 출력\n",
        "result = f\"가장 많이 나온 로또 번호는 {most_hit_numbers} 입니다.\"\n",
        "result\n"
      ],
      "metadata": {
        "colab": {
          "base_uri": "https://localhost:8080/",
          "height": 35
        },
        "id": "nRTSj38etmsS",
        "outputId": "2cb32e83-da26-49a8-b76f-4e5a69589624"
      },
      "execution_count": 44,
      "outputs": [
        {
          "output_type": "execute_result",
          "data": {
            "text/plain": [
              "'가장 많이 나온 로또 번호는 [5, 29, 7, 28, 18, 42] 입니다.'"
            ],
            "application/vnd.google.colaboratory.intrinsic+json": {
              "type": "string"
            }
          },
          "metadata": {},
          "execution_count": 44
        }
      ]
    },
    {
      "cell_type": "code",
      "source": [
        "# 나눔 글꼴 설치\n",
        "!sudo apt-get install -y fonts-nanum\n",
        "!sudo fc-cache -fv\n",
        "!rm ~/.cache/matplotlib -rf\n",
        "\n",
        "# 필요한 모듈을 가져오기\n",
        "import requests\n",
        "from bs4 import BeautifulSoup\n",
        "import matplotlib.pyplot as plt\n",
        "from datetime import datetime, timedelta\n",
        "plt.rc('font', family='NanumBarunGothic')\n",
        "\n",
        "# 시작 - 끝 페이지 번호를 1 ~ 70 페이지로 설정\n",
        "start_page = 1\n",
        "end_page = 70\n",
        "\n",
        "# 날짜와 환율 데이터를 저장할 리스트\n",
        "dates = []\n",
        "exchange_rate = []\n",
        "\n",
        "# 반복문을 사용하여 1페이지부터 70페이지까지 데이터를 스크랩\n",
        "for page in range(start_page, end_page + 1):\n",
        "    # 현재 페이지 번호를 기반으로 URL을 생성\n",
        "    url = f'https://finance.naver.com/marketindex/exchangeDailyQuote.naver?marketindexCd=FX_USDKRW&page={page}'\n",
        "\n",
        "    # 페이지에서 데이터를 스크랩\n",
        "    response = requests.get(url)\n",
        "    soup = BeautifulSoup(response.text, 'html.parser')\n",
        "\n",
        "    for row in soup.select('.tbl_exchange > tbody > tr'):\n",
        "        date = row.find('td', class_='date').text.strip()\n",
        "        rate = row.find('td', class_='num').text.strip()\n",
        "\n",
        "        # 2020년 12월 데이터를 무시\n",
        "        if '2020.12' in date:\n",
        "            continue\n",
        "\n",
        "        dates.append(date)\n",
        "        exchange_rate.append(float(rate.replace(',', '')))\n",
        "\n",
        "# 월별 평균 환율을 계산하기 위한 딕셔너리 초기화\n",
        "monthly_average = {}\n",
        "\n",
        "# 각 날짜에서 월 정보를 추출하고 월별 데이터를 누적\n",
        "for date, rate in zip(dates, exchange_rate):\n",
        "    date_obj = datetime.strptime(date, '%Y.%m.%d')\n",
        "    month_key = date_obj.strftime('%Y-%m')\n",
        "\n",
        "    if month_key in monthly_average:\n",
        "        monthly_average[month_key].append(rate)\n",
        "    else:\n",
        "        monthly_average[month_key] = [rate]\n",
        "\n",
        "# 월별 평균 환율을 계산\n",
        "monthly_averages = {}\n",
        "for month, rates in monthly_average.items():\n",
        "    monthly_averages[month] = sum(rates) / len(rates)\n",
        "\n",
        "# 월별 평균 환율 데이터를 정렬\n",
        "sorted_months = sorted(list(monthly_averages.keys()))\n",
        "\n",
        "# 정렬된 월별 평균 환율 데이터를 사용하여 시각화\n",
        "averages = [monthly_averages[month] for month in sorted_months]\n",
        "\n",
        "plt.figure(figsize=(10, 6))\n",
        "plt.plot(sorted_months, averages, marker='o', linestyle='-', color='b')\n",
        "plt.title('월별 USD/KRW 평균 환율 (2021-01-01 - 2023-10-28)')\n",
        "plt.xlabel('월')\n",
        "plt.ylabel('평균 환율')\n",
        "plt.xticks(rotation=45)\n",
        "plt.grid(True)\n",
        "\n",
        "plt.show()"
      ],
      "metadata": {
        "colab": {
          "base_uri": "https://localhost:8080/",
          "height": 985
        },
        "id": "5VJ3GQkUpieN",
        "outputId": "65a32720-b007-4ec0-eedd-3f19f8780009"
      },
      "execution_count": 3,
      "outputs": [
        {
          "output_type": "stream",
          "name": "stdout",
          "text": [
            "Reading package lists... Done\n",
            "Building dependency tree... Done\n",
            "Reading state information... Done\n",
            "fonts-nanum is already the newest version (20200506-1).\n",
            "0 upgraded, 0 newly installed, 0 to remove and 19 not upgraded.\n",
            "/usr/share/fonts: caching, new cache contents: 0 fonts, 1 dirs\n",
            "/usr/share/fonts/truetype: caching, new cache contents: 0 fonts, 3 dirs\n",
            "/usr/share/fonts/truetype/humor-sans: caching, new cache contents: 1 fonts, 0 dirs\n",
            "/usr/share/fonts/truetype/liberation: caching, new cache contents: 16 fonts, 0 dirs\n",
            "/usr/share/fonts/truetype/nanum: caching, new cache contents: 12 fonts, 0 dirs\n",
            "/usr/local/share/fonts: caching, new cache contents: 0 fonts, 0 dirs\n",
            "/root/.local/share/fonts: skipping, no such directory\n",
            "/root/.fonts: skipping, no such directory\n",
            "/usr/share/fonts/truetype: skipping, looped directory detected\n",
            "/usr/share/fonts/truetype/humor-sans: skipping, looped directory detected\n",
            "/usr/share/fonts/truetype/liberation: skipping, looped directory detected\n",
            "/usr/share/fonts/truetype/nanum: skipping, looped directory detected\n",
            "/var/cache/fontconfig: cleaning cache directory\n",
            "/root/.cache/fontconfig: not cleaning non-existent cache directory\n",
            "/root/.fontconfig: not cleaning non-existent cache directory\n",
            "fc-cache: succeeded\n"
          ]
        },
        {
          "output_type": "display_data",
          "data": {
            "text/plain": [
              "<Figure size 1000x600 with 1 Axes>"
            ],
            "image/png": "[encoded data removed]"
          },
          "metadata": {}
        }
      ]
    }
  ]
}